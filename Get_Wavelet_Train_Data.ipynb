{
  "nbformat": 4,
  "nbformat_minor": 0,
  "metadata": {
    "colab": {
      "provenance": [],
      "authorship_tag": "ABX9TyMVdpBTPjBar9IW0UJCC1cw"
    },
    "kernelspec": {
      "name": "python3",
      "display_name": "Python 3"
    },
    "language_info": {
      "name": "python"
    }
  },
  "cells": [
    {
      "cell_type": "markdown",
      "source": [
        "<a target=\"_blank\" href=\"https://colab.research.google.com/github/tuankhoin/MCEN90048-EEG-Grasp-and-Lift-Detection/blob/main/code.ipynb\">\n",
        "  <img src=\"https://colab.research.google.com/assets/colab-badge.svg\" alt=\"Open In Colab\"/>\n",
        "</a>"
      ],
      "metadata": {
        "id": "PXjDwN7_iQ8e"
      }
    },
    {
      "cell_type": "code",
      "execution_count": null,
      "metadata": {
        "colab": {
          "base_uri": "https://localhost:8080/"
        },
        "id": "Tfpubn0bg556",
        "outputId": "d6a187fa-517a-4c1e-cf06-344e05bad2eb"
      },
      "outputs": [
        {
          "output_type": "stream",
          "name": "stdout",
          "text": [
            "Downloading grasp-and-lift-eeg-detection.zip to /content\n",
            " 99% 1.01G/1.02G [00:05<00:00, 198MB/s]\n",
            "100% 1.02G/1.02G [00:05<00:00, 189MB/s]\n",
            "Unzipping grasp-and-lift-eeg-detection.zip\n",
            "Unzipping train.zip\n",
            "All good!\n"
          ]
        }
      ],
      "source": [
        "import os\n",
        "import json\n",
        "import zipfile\n",
        "from pathlib import Path\n",
        "\n",
        "try:\n",
        "  # See if you are running on colab\n",
        "  from google.colab import drive \n",
        "\n",
        "  # Download the dataset\n",
        "  api_token = {\"username\":\"tuankhoinguyen\",\"key\":\"6b992b229c6a4d8f6a8b30d1c101507d\"}\n",
        "  kaggle_path = Path('/root/.kaggle')\n",
        "  os.makedirs(kaggle_path, exist_ok=True)\n",
        "\n",
        "  with open (kaggle_path/'kaggle.json', 'w') as handl:\n",
        "      json.dump(api_token,handl)\n",
        "  os.chmod(kaggle_path/'kaggle.json', 600)  \n",
        "  !kaggle competitions download -c grasp-and-lift-eeg-detection\n",
        "\n",
        "  # Unzipping datasets\n",
        "  for z in ['grasp-and-lift-eeg-detection','train']:\n",
        "    print(f'Unzipping {z}.zip')\n",
        "    with zipfile.ZipFile(f'{z}.zip', 'r') as zip_ref:\n",
        "      zip_ref.extractall('')\n",
        "  print('All good!')\n",
        "  # Removing the zip files to save up VM space\n",
        "  !rm *.zip\n",
        "except:\n",
        "  pass"
      ]
    },
    {
      "cell_type": "code",
      "source": [
        "import numpy as np\n",
        "import pandas as pd\n",
        "import tensorflow as tf\n",
        "import matplotlib.pyplot as plt\n",
        "\n",
        "import glob\n",
        "import tqdm\n",
        "import pywt\n",
        "import warnings\n",
        "warnings.filterwarnings('ignore')"
      ],
      "metadata": {
        "id": "4WbilvdlmmDC"
      },
      "execution_count": null,
      "outputs": []
    },
    {
      "cell_type": "markdown",
      "source": [
        "# Data observing & preprocessing"
      ],
      "metadata": {
        "id": "6E1998lY0am-"
      }
    },
    {
      "cell_type": "code",
      "source": [
        "datas = glob.glob('/train/*_data.csv')"
      ],
      "metadata": {
        "id": "Z3hGV-c5vKKg"
      },
      "execution_count": null,
      "outputs": []
    },
    {
      "cell_type": "code",
      "source": [
        "dir = 'train_filtered'\n",
        "T=0.8\n",
        "w='db2'\n",
        "\n",
        "if not os.path.exists(dir):\n",
        "  os.mkdir(dir)\n",
        "\n",
        "for d in tqdm.tqdm(datas):\n",
        "  fname = d.split('/')[-1][:-8]\n",
        "  df = pd.read_csv(d).iloc[:,1:]\n",
        "  out = pd.DataFrame()\n",
        "  for c in df.columns:\n",
        "    coeffs = pywt.wavedec(df[c],w)\n",
        "    new_c = [pywt.threshold(co, T*max(co)) if i else co for i,co in enumerate(coeffs)]\n",
        "    out[c] = pywt.waverec(new_c,w)\n",
        "  out.to_csv(f'{dir}/{fname}_filtered.csv')"
      ],
      "metadata": {
        "id": "feWGvQZ6wkuJ"
      },
      "execution_count": null,
      "outputs": []
    }
  ]
}