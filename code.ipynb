{
  "nbformat": 4,
  "nbformat_minor": 0,
  "metadata": {
    "colab": {
      "provenance": [],
      "authorship_tag": "ABX9TyONS2jh4hSr+oj2gxj2zucF",
      "include_colab_link": true
    },
    "kernelspec": {
      "name": "python3",
      "display_name": "Python 3"
    },
    "language_info": {
      "name": "python"
    }
  },
  "cells": [
    {
      "cell_type": "markdown",
      "metadata": {
        "id": "view-in-github",
        "colab_type": "text"
      },
      "source": [
        "<a href=\"https://colab.research.google.com/github/tuankhoin/MCEN90048-EEG-Grasp-and-Lift-Detection/blob/main/code.ipynb\" target=\"_parent\"><img src=\"https://colab.research.google.com/assets/colab-badge.svg\" alt=\"Open In Colab\"/></a>"
      ]
    },
    {
      "cell_type": "markdown",
      "source": [
        "<a target=\"_blank\" href=\"https://colab.research.google.com/github/tuankhoin/MCEN90048-EEG-Grasp-and-Lift-Detection/blob/main/code.ipynb\">\n",
        "  <img src=\"https://colab.research.google.com/assets/colab-badge.svg\" alt=\"Open In Colab\"/>\n",
        "</a>"
      ],
      "metadata": {
        "id": "PXjDwN7_iQ8e"
      }
    },
    {
      "cell_type": "code",
      "execution_count": 3,
      "metadata": {
        "colab": {
          "base_uri": "https://localhost:8080/"
        },
        "id": "Tfpubn0bg556",
        "outputId": "3a3f36f0-d58b-4172-efb4-ce28a019831b"
      },
      "outputs": [
        {
          "output_type": "stream",
          "name": "stdout",
          "text": [
            "Downloading grasp-and-lift-eeg-detection.zip to /content\n",
            " 98% 1.00G/1.02G [00:10<00:00, 107MB/s]\n",
            "100% 1.02G/1.02G [00:10<00:00, 100MB/s]\n"
          ]
        }
      ],
      "source": [
        "import os\n",
        "import json\n",
        "import zipfile\n",
        "from pathlib import Path\n",
        "\n",
        "try:\n",
        "  # See if you are running on colab\n",
        "  from google.colab import drive \n",
        "\n",
        "  # Download the dataset\n",
        "  api_token = {\"username\":\"tuankhoinguyen\",\"key\":\"6b992b229c6a4d8f6a8b30d1c101507d\"}\n",
        "  kaggle_path = Path('/root/.kaggle')\n",
        "  os.makedirs(kaggle_path, exist_ok=True)\n",
        "\n",
        "  with open (kaggle_path/'kaggle.json', 'w') as handl:\n",
        "      json.dump(api_token,handl)\n",
        "  os.chmod(kaggle_path/'kaggle.json', 600)  \n",
        "  !kaggle competitions download -c grasp-and-lift-eeg-detection\n",
        "\n",
        "  # Unzipping datasets\n",
        "  for z in ['grasp-and-lift-eeg-detection','train','test']:\n",
        "    print(f'Unzipping {z}.zip')\n",
        "    with zipfile.ZipFile(f'{z}.zip', 'r') as zip_ref:\n",
        "      zip_ref.extractall('')\n",
        "  print('All good!')\n",
        "  # Removing the zip files to save up VM space\n",
        "  !rm *.zip\n",
        "except:\n",
        "  pass"
      ]
    },
    {
      "cell_type": "code",
      "source": [
        "import numpy as np\n",
        "import tensorflow as tf"
      ],
      "metadata": {
        "id": "4WbilvdlmmDC"
      },
      "execution_count": null,
      "outputs": []
    }
  ]
}